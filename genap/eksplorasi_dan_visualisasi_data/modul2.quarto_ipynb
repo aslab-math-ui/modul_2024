{
  "cells": [
    {
      "cell_type": "markdown",
      "metadata": {},
      "source": [
        "---\n",
        "title: \"Pertemuan 2 : Data Cleaning with Pandas\"\n",
        "image: static\\images\\pandas.jpg\n",
        "description: \"Handling Dirty Data using Pandas\"\n",
        "date: 04/15/2024\n",
        "page-navigation: true\n",
        "jupyter: python3\n",
        "format: html\n",
        "---\n",
        "\n",
        "Kembali ke [EDA](./eda2024genap.qmd)\n",
        "\n",
        "# Gathering Data\n",
        "\n",
        "<div style='text-align: justify;'>\n",
        "Data yang kita terima seringkali tidak berupa 1 tabel yang lengkap berisi seluruh informasi yang dibutuhkan. Terkadang kita perlu menggabungkan 2 atau lebih data yang saling berhubungan. Pandas memiliki beberapa fungsi yang dapat kita gunakan untuk menggabungkan beberapa data tersebut.\n",
        "</div>\n",
        "\n",
        "## Concatenate & Merge\n",
        "\n",
        "### Concatenate\n",
        "\n",
        "<div style='text-align: justify;'>\n",
        "Concatenate digunakan untuk menggabungkan 2 atau lebih series/dataframe. Argumen `axis=` digunakan untuk mengatur opsi penggabungan data menurut index baris atau index kolom. Berikut contoh penggunaan pada 2 series :"
      ],
      "id": "dfff4e77"
    },
    {
      "cell_type": "code",
      "metadata": {},
      "source": [
        "import numpy as np\n",
        "import pandas as pd\n",
        "\n",
        "series1 = pd.Series(['a','b','c'])\n",
        "series2 = pd.Series(['x','y','z'])"
      ],
      "id": "295d6c96",
      "execution_count": null,
      "outputs": []
    },
    {
      "cell_type": "markdown",
      "metadata": {},
      "source": [
        "___\n",
        "`axis=0 (default)` akan menggabungkan data pada index **baris**."
      ],
      "id": "5fef59a6"
    },
    {
      "cell_type": "code",
      "metadata": {},
      "source": [
        "pd.concat([series1,series2], axis=0)"
      ],
      "id": "62e5220b",
      "execution_count": null,
      "outputs": []
    },
    {
      "cell_type": "markdown",
      "metadata": {},
      "source": [
        "___\n",
        "`axis=1` akan menggabungkan data pada index **kolom**."
      ],
      "id": "de632693"
    },
    {
      "cell_type": "code",
      "metadata": {},
      "source": [
        "pd.concat([series1,series2], axis=1)"
      ],
      "id": "a427bfeb",
      "execution_count": null,
      "outputs": []
    },
    {
      "cell_type": "markdown",
      "metadata": {},
      "source": [
        "___\n",
        "`ignore_index=True` akan mengabaikan index awal dari masing-masing data sehingga hasil penggabungan memiliki index baru."
      ],
      "id": "9cb53c8c"
    },
    {
      "cell_type": "code",
      "metadata": {},
      "source": [
        "pd.concat([series1,series2], ignore_index=True)"
      ],
      "id": "0d453fe0",
      "execution_count": null,
      "outputs": []
    },
    {
      "cell_type": "markdown",
      "metadata": {},
      "source": [
        "___\n",
        "Kita dapat menambahkan `keys` sebagai penanda dari masing-masing series sebelum digabungkan."
      ],
      "id": "15979b2b"
    },
    {
      "cell_type": "code",
      "metadata": {},
      "source": [
        "pd.concat([series1,series2], keys=['Series 1','Series 2'])"
      ],
      "id": "b678a3d1",
      "execution_count": null,
      "outputs": []
    },
    {
      "cell_type": "markdown",
      "metadata": {},
      "source": [
        ":::{.callout-tip}\n",
        "Hasil penggabungan dengan argumen `keys=` akan menambahkan keys sebagai index gabungan, sehingga pada contoh di atas, index dari masing-masing value adalah sebuah tuple yang merupakan pasangan index gabungan dan index masing-masing."
      ],
      "id": "ffa41ea1"
    },
    {
      "cell_type": "code",
      "metadata": {},
      "source": [
        "pd.concat([series1,series2], keys=['Series 1','Series 2']).index"
      ],
      "id": "2576ade8",
      "execution_count": null,
      "outputs": []
    },
    {
      "cell_type": "markdown",
      "metadata": {},
      "source": [
        ":::\n",
        "___\n",
        "Berikut contoh penggunaan pada DataFrame :"
      ],
      "id": "f4eccbdf"
    },
    {
      "cell_type": "code",
      "metadata": {},
      "source": [
        "df1=pd.DataFrame({'col 1':['a','b','c'],'col 2':[0,1,2]})\n",
        "df2=pd.DataFrame({'col 1':['x','y','z'],'col 2':[4,5,6]})"
      ],
      "id": "cea21959",
      "execution_count": null,
      "outputs": []
    },
    {
      "cell_type": "code",
      "metadata": {},
      "source": [
        "df1"
      ],
      "id": "85fb2901",
      "execution_count": null,
      "outputs": []
    },
    {
      "cell_type": "code",
      "metadata": {},
      "source": [
        "df2"
      ],
      "id": "c6c0fcf3",
      "execution_count": null,
      "outputs": []
    },
    {
      "cell_type": "markdown",
      "metadata": {},
      "source": [
        "___\n",
        "`axis=0 (default)` akan menggabungkan data pada index **baris**."
      ],
      "id": "efc5fe6d"
    },
    {
      "cell_type": "code",
      "metadata": {},
      "source": [
        "pd.concat([df1,df2])"
      ],
      "id": "6f36d2af",
      "execution_count": null,
      "outputs": []
    },
    {
      "cell_type": "markdown",
      "metadata": {},
      "source": [
        "___\n",
        "`axis=1` akan menggabungkan data pada index **kolom**."
      ],
      "id": "ac77a8b0"
    },
    {
      "cell_type": "code",
      "metadata": {},
      "source": [
        "pd.concat([df1,df2], axis=1)"
      ],
      "id": "cdc57564",
      "execution_count": null,
      "outputs": []
    },
    {
      "cell_type": "markdown",
      "metadata": {},
      "source": [
        "___\n",
        "Perhatikan bahwa nama kolom `df1` dan `df2` sama. Misalkan kita menggabungkan 2 dataframe dengan nama kolom yang berbeda."
      ],
      "id": "167493f9"
    },
    {
      "cell_type": "code",
      "metadata": {},
      "source": [
        "df3=pd.DataFrame({'col 2':[3,4,5],'col 3':['m','n','o']})\n",
        "df3"
      ],
      "id": "abf07812",
      "execution_count": null,
      "outputs": []
    },
    {
      "cell_type": "markdown",
      "metadata": {},
      "source": [
        "Concatenate pada DataFrame melihat index kolom sebagai acuan untuk penggabungan pada `axis=0` (baris). "
      ],
      "id": "d4c4ad43"
    },
    {
      "cell_type": "code",
      "metadata": {},
      "source": [
        "pd.concat([df1,df3])"
      ],
      "id": "9ba7a318",
      "execution_count": null,
      "outputs": []
    },
    {
      "cell_type": "markdown",
      "metadata": {},
      "source": [
        "Karena `df1` dan `df3` memiliki nama kolom yang berbeda, maka terjadi penggabungan baris sekaligus kolom. \n",
        "\n",
        "___\n",
        "Untuk kolom yang beririsan, bisa menggunakan argumen `join=` untuk mengatur bagaimana penggabungan dilakukan (pada keseluruhan data atau pada data yang beririsan saja)"
      ],
      "id": "3244f787"
    },
    {
      "cell_type": "code",
      "metadata": {},
      "source": [
        "pd.concat([df1,df3], join='inner') # df1 ⋂ df3"
      ],
      "id": "6eabd29e",
      "execution_count": null,
      "outputs": []
    },
    {
      "cell_type": "code",
      "metadata": {},
      "source": [
        "pd.concat([df1,df3], join='outer') # df1 ⋃ df3"
      ],
      "id": "4d7e3da0",
      "execution_count": null,
      "outputs": []
    },
    {
      "cell_type": "markdown",
      "metadata": {},
      "source": [
        "</div>\n",
        "\n",
        "### Merge\n",
        "\n",
        "<div style='text-align: justify;'>\n",
        "Fungsi merge pada pandas digunakan untuk menggabungkan 2 atau lebih dataframe berdasarkan index kolom tertentu."
      ],
      "id": "dcf41ebb"
    },
    {
      "cell_type": "code",
      "metadata": {},
      "source": [
        "karyawan = pd.DataFrame({'id':[1,2,3,4],'nama':['Joko','Alvin','Rafi','Lita']})\n",
        "karyawan"
      ],
      "id": "cebaf282",
      "execution_count": null,
      "outputs": []
    },
    {
      "cell_type": "code",
      "metadata": {},
      "source": [
        "gaji = pd.DataFrame({'id':[2,1,3,5,4,6],'gaji':[100.0,200.0,300.0,400.0,500.0,600.0]})\n",
        "gaji"
      ],
      "id": "a402336e",
      "execution_count": null,
      "outputs": []
    },
    {
      "cell_type": "code",
      "metadata": {},
      "source": [
        "pd.merge(karyawan, gaji, on='id')"
      ],
      "id": "d38af817",
      "execution_count": null,
      "outputs": []
    },
    {
      "cell_type": "markdown",
      "metadata": {},
      "source": [
        "Data nama karyawan dan gaji digabungkan dalam 1 dataframe, dengan nilai-nilai pada kolom id sebagai acuan.\n",
        "\n",
        ":::{.callout-note}\n",
        "## Merge & Join\n",
        "Pada modul ini, hanya dibahas mengenai dasar penggunaan fungsi merge untuk menggabungkan dataset. Untuk penggunaan lebih spesifik dengan argumen `left=`, `right=`, `left_on=`, `right_on=` dan `how=` akan dibahas pada materi ***Data Wrangling***\n",
        ":::\n",
        "</div>\n",
        "\n",
        "# Assessing Data\n",
        "<div style='text-align: justify;'>\n",
        "Setelah memiliki data yang komplit, langkah selanjutnya adalah mengidentifikasi validitas data yang kita punya. Apakah data yang kita miliki sudah cukup baik? Apakah sudah bisa dilakukan analisis pada data yang ada? Perlukah perubahan dan perbaruan data?\n",
        "\n",
        "Pertama, kita perlu melihat keberadaan **data yang buruk** dalam kumpulan data kita.\n",
        "\n",
        "Data yang buruk dapat berupa:\n",
        "\n",
        "- Data dalam format yang salah (Data ***integer*** terbaca sebagai suatu ***string***)\n",
        "- Sel yang kosong (***Missing***)\n",
        "- Duplikat (Data yang sama muncul lebih dari 1 kali)\n",
        "- Data yang salah (Data yang tidak masuk akal. Misalnya seseorang berumur 600 tahun)\n",
        "</div>\n",
        "\n",
        "## df.info()\n",
        "<div style='text-align: justify;'>\n",
        "\n",
        "Method `.info()` dapat digunakan untuk melihat informasi dasar suatu dataframe seperti **jumlah entri keseluruhan**, **nama kolom**, **jumlah nilai non-null tiap kolom**, **tipe data tiap kolom** hingga **penggunaan memori suatu dataframe**\n",
        "\n",
        "Misalkan kita gunakan dataset pokemon pada modul sebelumnya,"
      ],
      "id": "47693a28"
    },
    {
      "cell_type": "code",
      "metadata": {},
      "source": [
        "df = pd.read_csv('https://raw.githubusercontent.com/farhanage/dataset-for-study/main/pokemon_data.csv')\n",
        "df.head()"
      ],
      "id": "4d114a11",
      "execution_count": null,
      "outputs": []
    },
    {
      "cell_type": "code",
      "metadata": {},
      "source": [
        "df.info()"
      ],
      "id": "0f79c801",
      "execution_count": null,
      "outputs": []
    },
    {
      "cell_type": "markdown",
      "metadata": {},
      "source": [
        "</div>\n",
        "\n",
        "## Missing Values\n",
        "<div style='text-align: justify;'>\n",
        "Terdapat 2 tipe missing value.\n",
        "\n",
        "1. Data bernilai `NaN` (Not a Number)\n",
        "2. Data bernilai `0` (Null)\n",
        "\n",
        ":::{.callout-warning}\n",
        "## Null\n",
        "Data bernilai 0 (Null) tidak selalu bersifat sebagai data yang hilang, bisa juga data memang memiliki data yang bernilai 0. Oleh karena itu, penting bagi kita untuk mengetahui konteks dari data yang dianalisis.\n",
        ":::\n",
        "___"
      ],
      "id": "1a20e4c5"
    },
    {
      "cell_type": "code",
      "metadata": {},
      "source": [
        "df = pd.DataFrame({\"Evan\" : [np.nan,100,95,94,99],\"Boy\" : [100,np.nan,95,99,94],\"Maxwell\" : [95,100,99,np.nan,94]})\n",
        "df"
      ],
      "id": "8e4d0b71",
      "execution_count": null,
      "outputs": []
    },
    {
      "cell_type": "markdown",
      "metadata": {},
      "source": [
        "Untuk melihat data mana saja yang mengandung value `NaN` (Not a Number), kita gunakan method `.isna()` atau `.isnull()`. (Kedua method ini memiliki fungsi yang sama dan dapat digunakan secara bergantian/salah satu saja)"
      ],
      "id": "14c8ac88"
    },
    {
      "cell_type": "code",
      "metadata": {},
      "source": [
        "df.isna()"
      ],
      "id": "d15a2e2a",
      "execution_count": null,
      "outputs": []
    },
    {
      "cell_type": "markdown",
      "metadata": {},
      "source": [
        "Untuk melihat jumlah value `NaN` pada data, tambahkan method `.sum()` pada kode di atas."
      ],
      "id": "14dec81d"
    },
    {
      "cell_type": "code",
      "metadata": {},
      "source": [
        "df.isna().sum()"
      ],
      "id": "447e2368",
      "execution_count": null,
      "outputs": []
    },
    {
      "cell_type": "markdown",
      "metadata": {},
      "source": [
        ":::{.callout-note}\n",
        "## Method `.sum()`\n",
        "Method `.sum()` digunakan untuk menjumlahkan nilai-nilai pada tiap kolom dataframe (Juga dalam suatu Series).\n",
        ":::\n",
        "\n",
        "Untuk melihat entri-entri yang memiliki nilai `NaN` pada kolom tertentu, lakukan *filtering* pada dataframe dengan `df['<nama-kolom>'].isna()` sebagai kondisi yang diinginkan."
      ],
      "id": "dbf5806b"
    },
    {
      "cell_type": "code",
      "metadata": {},
      "source": [
        "df[df['Evan'].isna()]   # Entri yang memiliki nilai `NaN` pada kolom `Evan`"
      ],
      "id": "df0ee5d2",
      "execution_count": null,
      "outputs": []
    },
    {
      "cell_type": "markdown",
      "metadata": {},
      "source": [
        "</div>\n",
        "\n",
        "## Duplicates\n",
        "<div style='text-align: justify;'>\n",
        "\n",
        "Data duplikat pada dataframe adalah entri yang memiliki nilai yang sama **pada setiap kolom**. Jika terdapat setidaknya 1 nilai kolom yang berbeda antara 2 entri, data tersebut bukanlah sebuah duplikat."
      ],
      "id": "66fbfe4d"
    },
    {
      "cell_type": "code",
      "metadata": {},
      "source": [
        "df = pd.DataFrame({\n",
        "    \"id\" : [1,2,3,4,3,6],\n",
        "    \"Karyawan\" : ['Joko','Alvin','Rafi','Lita','Rafi','Jennie'],\n",
        "    \"Gaji\" : [100.0, 200.0, 300.0, 400.0, 300.0, 600.0]})\n",
        "df"
      ],
      "id": "c89ee85f",
      "execution_count": null,
      "outputs": []
    },
    {
      "cell_type": "markdown",
      "metadata": {},
      "source": [
        "Untuk melihat data yang memiliki duplikat pada dataframe, kita gunakan method `.duplicated()`."
      ],
      "id": "d48e076f"
    },
    {
      "cell_type": "code",
      "metadata": {},
      "source": [
        "df.duplicated()"
      ],
      "id": "a60e1f11",
      "execution_count": null,
      "outputs": []
    },
    {
      "cell_type": "markdown",
      "metadata": {},
      "source": [
        "Perhatikan bahwa data yang terbaca sebagai duplikat adalah data yang muncul setelah kemunculan data pertama kali (data duplikat pertama tidak dianggap sebagai duplikat)\n",
        "\n",
        "Dengan cara yang sama seperti pada **Missing Value**, kita bisa menggunakan method `.sum()` untuk melihat jumlah data duplikat pada suatu dataframe."
      ],
      "id": "7058af6b"
    },
    {
      "cell_type": "code",
      "metadata": {},
      "source": [
        "df.duplicated().sum()"
      ],
      "id": "ece1c9d9",
      "execution_count": null,
      "outputs": []
    },
    {
      "cell_type": "markdown",
      "metadata": {},
      "source": [
        "Untuk melihat entri-entri yang memiliki nilai duplikat pada kolom tertentu, lakukan *filtering* pada dataframe dengan `df['<nama-kolom>'].duplicated()` sebagai kondisi yang diinginkan."
      ],
      "id": "168bd2af"
    },
    {
      "cell_type": "code",
      "metadata": {},
      "source": [
        "df[df['id'].duplicated()]   # Entri yang memiliki nilai `id` duplikat"
      ],
      "id": "86804eb1",
      "execution_count": null,
      "outputs": []
    },
    {
      "cell_type": "markdown",
      "metadata": {},
      "source": [
        "</div>\n",
        "\n",
        "## Descriptive Statistics\n",
        "<div style='text-align: justify;'>\n",
        "\n",
        "Untuk mengidentifikasi apakah terdapat data yang salah, jika kita perlu tahu konteks data tersebut. Seperti bagaimana cara data diperoleh? Apakah ada batas-batas nilai pada variabel-variabel tertentu?\n",
        "\n",
        "Salah satu cara mudah untuk mengidentifikasi persebaran suatu data adalah dengan melihat statistik deskriptif suatu data. Kita bisa menggunakan method `.describe()` untuk melihat ukuran persebaran data dari masing-masing variabel pada suatu dataframe."
      ],
      "id": "47dad899"
    },
    {
      "cell_type": "code",
      "metadata": {},
      "source": [
        "df = pd.read_csv('https://raw.githubusercontent.com/farhanage/dataset-for-study/main/pokemon_data.csv')\n",
        "df.head()"
      ],
      "id": "ad01a11f",
      "execution_count": null,
      "outputs": []
    },
    {
      "cell_type": "code",
      "metadata": {},
      "source": [
        "df.describe()"
      ],
      "id": "d621fad9",
      "execution_count": null,
      "outputs": []
    },
    {
      "cell_type": "markdown",
      "metadata": {},
      "source": [
        "Namun, metode ini hanya dapat digunakan pada data numerik. Sehingga untuk data non-numerik, perlu pemahaman lebih lanjut mengenai konteks data dan metode yang digunakan untuk mengonfirmasi validitas data.\n",
        "\n",
        "</div>\n",
        "\n",
        "# Cleaning Data\n",
        "\n",
        "## Memperbaiki Format Data yang Salah\n",
        "<div style='text-align: justify;'>\n",
        "\n",
        "Terdapat lebih dari 1 cara untuk memperbaiki format data yang salah. Tidak disalahkan bagi anda untuk mencarinya di internet sendiri. Silakan merujuk pada berbagai sumber. Salah satunya adalah jawaban dari pertanyaan pada forum StackOverflow berikut : [Link](https://stackoverflow.com/questions/15891038/change-column-type-in-pandas)\n",
        "</div>\n",
        "\n",
        "## Mengimputasi sel yang kosong\n",
        "<div style='text-align: justify;'>"
      ],
      "id": "f6b0742b"
    },
    {
      "cell_type": "code",
      "metadata": {},
      "source": [
        "df.fillna(value='<value>', inplace=True)"
      ],
      "id": "3f491296",
      "execution_count": null,
      "outputs": []
    },
    {
      "cell_type": "markdown",
      "metadata": {},
      "source": [
        "</div>\n",
        "\n",
        "## Menghapus data duplikat\n",
        "<div style='text-align: justify;'>"
      ],
      "id": "edbf7067"
    },
    {
      "cell_type": "code",
      "metadata": {},
      "source": [
        "df.drop_duplicates(inplace=True)"
      ],
      "id": "bd090864",
      "execution_count": null,
      "outputs": []
    },
    {
      "cell_type": "markdown",
      "metadata": {},
      "source": [
        "</div>"
      ],
      "id": "eb100bd4"
    }
  ],
  "metadata": {
    "kernelspec": {
      "name": "python3",
      "language": "python",
      "display_name": "Python 3 (ipykernel)",
      "path": "c:\\Users\\User\\AppData\\Local\\Programs\\Python\\Python311\\share\\jupyter\\kernels\\python3"
    }
  },
  "nbformat": 4,
  "nbformat_minor": 5
}